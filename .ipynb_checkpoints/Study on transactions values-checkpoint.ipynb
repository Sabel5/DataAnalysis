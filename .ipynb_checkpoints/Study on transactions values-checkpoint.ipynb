{
 "cells": [
  {
   "cell_type": "markdown",
   "metadata": {},
   "source": [
    "# Example of study on in-store transactions"
   ]
  },
  {
   "cell_type": "markdown",
   "metadata": {},
   "source": [
    "The aim of this Notebook is to give an example of analysis we can lead on transaction data.\n",
    "\n",
    "The dataset was given to me during a challenge. It contains a list of transactions in different supermarkets. It is not extracted from real transactions but simulated under realistic assumptions.\n",
    "\n",
    "It contains the value of the transaction in $, the gender of the customer and the type of store."
   ]
  },
  {
   "cell_type": "code",
   "execution_count": 7,
   "metadata": {
    "collapsed": true
   },
   "outputs": [],
   "source": [
    "%matplotlib inline\n",
    "import pandas as pd\n",
    "from numpy import log10\n",
    "import matplotlib.pyplot as plt\n",
    "import scipy.stats as stats"
   ]
  },
  {
   "cell_type": "code",
   "execution_count": 10,
   "metadata": {
    "collapsed": false
   },
   "outputs": [],
   "source": [
    "trans = pd.read_csv(\"./input/transactions.tsv\", sep='\\t')"
   ]
  },
  {
   "cell_type": "code",
   "execution_count": 11,
   "metadata": {
    "collapsed": false
   },
   "outputs": [
    {
     "data": {
      "text/plain": [
       "['transaction.value', 'gender', 'store.type']"
      ]
     },
     "execution_count": 11,
     "metadata": {},
     "output_type": "execute_result"
    }
   ],
   "source": [
    "trans.columns.tolist()"
   ]
  },
  {
   "cell_type": "code",
   "execution_count": 12,
   "metadata": {
    "collapsed": false
   },
   "outputs": [
    {
     "data": {
      "text/html": [
       "<div>\n",
       "<table border=\"1\" class=\"dataframe\">\n",
       "  <thead>\n",
       "    <tr style=\"text-align: right;\">\n",
       "      <th></th>\n",
       "      <th>value</th>\n",
       "      <th>gender</th>\n",
       "      <th>store</th>\n",
       "    </tr>\n",
       "  </thead>\n",
       "  <tbody>\n",
       "    <tr>\n",
       "      <th>0</th>\n",
       "      <td>33.80</td>\n",
       "      <td>Male</td>\n",
       "      <td>type1</td>\n",
       "    </tr>\n",
       "    <tr>\n",
       "      <th>1</th>\n",
       "      <td>7.02</td>\n",
       "      <td>Male</td>\n",
       "      <td>type2</td>\n",
       "    </tr>\n",
       "    <tr>\n",
       "      <th>2</th>\n",
       "      <td>335.88</td>\n",
       "      <td>Female</td>\n",
       "      <td>type3</td>\n",
       "    </tr>\n",
       "    <tr>\n",
       "      <th>3</th>\n",
       "      <td>79.02</td>\n",
       "      <td>Male</td>\n",
       "      <td>type2</td>\n",
       "    </tr>\n",
       "    <tr>\n",
       "      <th>4</th>\n",
       "      <td>354.15</td>\n",
       "      <td>Male</td>\n",
       "      <td>type1</td>\n",
       "    </tr>\n",
       "  </tbody>\n",
       "</table>\n",
       "</div>"
      ],
      "text/plain": [
       "    value  gender  store\n",
       "0   33.80    Male  type1\n",
       "1    7.02    Male  type2\n",
       "2  335.88  Female  type3\n",
       "3   79.02    Male  type2\n",
       "4  354.15    Male  type1"
      ]
     },
     "execution_count": 12,
     "metadata": {},
     "output_type": "execute_result"
    }
   ],
   "source": [
    "trans.columns = ['value', 'gender', 'store']\n",
    "trans.head()"
   ]
  },
  {
   "cell_type": "code",
   "execution_count": 13,
   "metadata": {
    "collapsed": false
   },
   "outputs": [
    {
     "name": "stdout",
     "output_type": "stream",
     "text": [
      "Number of transactions: 2000\n",
      "Average transaction value: 286 $\n",
      "Different store types: ['type1', 'type2', 'type3', 'type4']\n",
      "Genders: ['Male', 'Female']\n"
     ]
    }
   ],
   "source": [
    "print('Number of transactions: {}'.format(trans.value.count()))\n",
    "print('Average transaction value: {} $'.format(int(trans.value.mean())))\n",
    "print('Different store types: {}'.format(trans.store.unique().tolist()))\n",
    "print('Genders: {}'.format(trans.gender.unique().tolist()))"
   ]
  },
  {
   "cell_type": "markdown",
   "metadata": {},
   "source": [
    "There are 2000 transactions. The data seems quite clean (there are no weird store type or weird gender neither).\n",
    "\n",
    "Let's see if there are any differences between male and female transaction values."
   ]
  },
  {
   "cell_type": "code",
   "execution_count": 14,
   "metadata": {
    "collapsed": true
   },
   "outputs": [],
   "source": [
    "male = trans[trans.gender=='Male']\n",
    "female = trans[trans.gender=='Female']"
   ]
  },
  {
   "cell_type": "code",
   "execution_count": 15,
   "metadata": {
    "collapsed": false
   },
   "outputs": [
    {
     "data": {
      "text/html": [
       "<div>\n",
       "<table border=\"1\" class=\"dataframe\">\n",
       "  <thead>\n",
       "    <tr style=\"text-align: right;\">\n",
       "      <th></th>\n",
       "      <th>female</th>\n",
       "      <th>male</th>\n",
       "    </tr>\n",
       "  </thead>\n",
       "  <tbody>\n",
       "    <tr>\n",
       "      <th>count</th>\n",
       "      <td>986.000000</td>\n",
       "      <td>1014.000000</td>\n",
       "    </tr>\n",
       "    <tr>\n",
       "      <th>mean</th>\n",
       "      <td>427.234260</td>\n",
       "      <td>149.012939</td>\n",
       "    </tr>\n",
       "    <tr>\n",
       "      <th>std</th>\n",
       "      <td>5749.744757</td>\n",
       "      <td>263.323544</td>\n",
       "    </tr>\n",
       "    <tr>\n",
       "      <th>min</th>\n",
       "      <td>2.590000</td>\n",
       "      <td>0.460000</td>\n",
       "    </tr>\n",
       "    <tr>\n",
       "      <th>25%</th>\n",
       "      <td>25.472500</td>\n",
       "      <td>19.910000</td>\n",
       "    </tr>\n",
       "    <tr>\n",
       "      <th>50%</th>\n",
       "      <td>51.990000</td>\n",
       "      <td>42.785000</td>\n",
       "    </tr>\n",
       "    <tr>\n",
       "      <th>75%</th>\n",
       "      <td>192.180000</td>\n",
       "      <td>158.420000</td>\n",
       "    </tr>\n",
       "    <tr>\n",
       "      <th>max</th>\n",
       "      <td>150032.000000</td>\n",
       "      <td>3180.760000</td>\n",
       "    </tr>\n",
       "  </tbody>\n",
       "</table>\n",
       "</div>"
      ],
      "text/plain": [
       "              female         male\n",
       "count     986.000000  1014.000000\n",
       "mean      427.234260   149.012939\n",
       "std      5749.744757   263.323544\n",
       "min         2.590000     0.460000\n",
       "25%        25.472500    19.910000\n",
       "50%        51.990000    42.785000\n",
       "75%       192.180000   158.420000\n",
       "max    150032.000000  3180.760000"
      ]
     },
     "execution_count": 15,
     "metadata": {},
     "output_type": "execute_result"
    }
   ],
   "source": [
    "pd.DataFrame({'male':male.value.describe(), 'female': female.value.describe()})"
   ]
  },
  {
   "cell_type": "markdown",
   "metadata": {},
   "source": [
    "At first sight the transactions seem quite different between males and females. The average female transaction value is almost 3 times bigger than the male one. The standard deviation of female transaction values is also huge compared to the male one.\n",
    "\n",
    "Lets plot the histogram of these values. For more readibility we use the log10 of transaction values."
   ]
  },
  {
   "cell_type": "code",
   "execution_count": 17,
   "metadata": {
    "collapsed": false
   },
   "outputs": [
    {
     "data": {
      "image/png": "[encoded data removed]",
      "text/plain": [
       "<matplotlib.figure.Figure at 0x2256c906080>"
      ]
     },
     "metadata": {},
     "output_type": "display_data"
    }
   ],
   "source": [
    "plt.figure(figsize=(10,6))\n",
    "plt.hist(log10(male.value), bins=100)\n",
    "plt.hist(log10(female.value), bins=100, color='red', alpha=0.6)\n",
    "plt.show()"
   ]
  },
  {
   "cell_type": "markdown",
   "metadata": {},
   "source": [
    "It appears clearly that we have 3 outliers in our data that can explain the big difference we have between female and male transaction values.\n",
    "\n",
    "These outliers are superior to 10 000$. It is exceptional for transactions in a supermarket. Either the customers bought very expensive products like household appliances, or there were mistakes in the data collection.\n",
    "\n",
    "However it is more meaningful to drop these outliers in order to lead a better analysis on female and male transaction values."
   ]
  },
  {
   "cell_type": "code",
   "execution_count": 19,
   "metadata": {
    "collapsed": false
   },
   "outputs": [
    {
     "data": {
      "text/html": [
       "<div>\n",
       "<table border=\"1\" class=\"dataframe\">\n",
       "  <thead>\n",
       "    <tr style=\"text-align: right;\">\n",
       "      <th></th>\n",
       "      <th>female</th>\n",
       "      <th>male</th>\n",
       "    </tr>\n",
       "  </thead>\n",
       "  <tbody>\n",
       "    <tr>\n",
       "      <th>count</th>\n",
       "      <td>983.000000</td>\n",
       "      <td>1014.000000</td>\n",
       "    </tr>\n",
       "    <tr>\n",
       "      <th>mean</th>\n",
       "      <td>162.137060</td>\n",
       "      <td>149.012939</td>\n",
       "    </tr>\n",
       "    <tr>\n",
       "      <th>std</th>\n",
       "      <td>263.168334</td>\n",
       "      <td>263.323544</td>\n",
       "    </tr>\n",
       "    <tr>\n",
       "      <th>min</th>\n",
       "      <td>2.590000</td>\n",
       "      <td>0.460000</td>\n",
       "    </tr>\n",
       "    <tr>\n",
       "      <th>25%</th>\n",
       "      <td>25.385000</td>\n",
       "      <td>19.910000</td>\n",
       "    </tr>\n",
       "    <tr>\n",
       "      <th>50%</th>\n",
       "      <td>51.620000</td>\n",
       "      <td>42.785000</td>\n",
       "    </tr>\n",
       "    <tr>\n",
       "      <th>75%</th>\n",
       "      <td>188.050000</td>\n",
       "      <td>158.420000</td>\n",
       "    </tr>\n",
       "    <tr>\n",
       "      <th>max</th>\n",
       "      <td>2502.390000</td>\n",
       "      <td>3180.760000</td>\n",
       "    </tr>\n",
       "  </tbody>\n",
       "</table>\n",
       "</div>"
      ],
      "text/plain": [
       "            female         male\n",
       "count   983.000000  1014.000000\n",
       "mean    162.137060   149.012939\n",
       "std     263.168334   263.323544\n",
       "min       2.590000     0.460000\n",
       "25%      25.385000    19.910000\n",
       "50%      51.620000    42.785000\n",
       "75%     188.050000   158.420000\n",
       "max    2502.390000  3180.760000"
      ]
     },
     "execution_count": 19,
     "metadata": {},
     "output_type": "execute_result"
    }
   ],
   "source": [
    "female = female[female.value<10000]\n",
    "pd.DataFrame({'male':male.value.describe(), 'female': female.value.describe()})"
   ]
  },
  {
   "cell_type": "markdown",
   "metadata": {},
   "source": [
    "The values seem much more similar now! Standard deviations are the same. Mean values are slightly different.\n",
    "\n",
    "Let's perform a statistical test to check this point."
   ]
  },
  {
   "cell_type": "code",
   "execution_count": 20,
   "metadata": {
    "collapsed": false
   },
   "outputs": [
    {
     "name": "stdout",
     "output_type": "stream",
     "text": [
      "0.27\n"
     ]
    }
   ],
   "source": [
    "# T-test for equal means : null Hypothesis=same mean\n",
    "t, p = stats.ttest_ind(male.value, female.value, axis=0, equal_var=True)\n",
    "print(round(p, 2))"
   ]
  },
  {
   "cell_type": "markdown",
   "metadata": {},
   "source": [
    "p-value equals 27% which is much more than 5%.\n",
    "\n",
    "We can't reject the null-hypothesis so we can assume that the average female and male transaction value is the same.\n",
    "\n",
    "Let's study the different store types now."
   ]
  },
  {
   "cell_type": "code",
   "execution_count": 21,
   "metadata": {
    "collapsed": false
   },
   "outputs": [
    {
     "data": {
      "text/html": [
       "<div>\n",
       "<table border=\"1\" class=\"dataframe\">\n",
       "  <thead>\n",
       "    <tr style=\"text-align: right;\">\n",
       "      <th></th>\n",
       "      <th>type 1</th>\n",
       "      <th>type 2</th>\n",
       "      <th>type 3</th>\n",
       "      <th>type 4</th>\n",
       "    </tr>\n",
       "  </thead>\n",
       "  <tbody>\n",
       "    <tr>\n",
       "      <th>count</th>\n",
       "      <td>486.000000</td>\n",
       "      <td>829.000000</td>\n",
       "      <td>400.000000</td>\n",
       "      <td>282.000000</td>\n",
       "    </tr>\n",
       "    <tr>\n",
       "      <th>mean</th>\n",
       "      <td>113.176605</td>\n",
       "      <td>155.166490</td>\n",
       "      <td>256.231125</td>\n",
       "      <td>86.349468</td>\n",
       "    </tr>\n",
       "    <tr>\n",
       "      <th>std</th>\n",
       "      <td>218.942121</td>\n",
       "      <td>215.615642</td>\n",
       "      <td>387.696657</td>\n",
       "      <td>191.863120</td>\n",
       "    </tr>\n",
       "    <tr>\n",
       "      <th>min</th>\n",
       "      <td>2.750000</td>\n",
       "      <td>3.140000</td>\n",
       "      <td>0.460000</td>\n",
       "      <td>5.130000</td>\n",
       "    </tr>\n",
       "    <tr>\n",
       "      <th>25%</th>\n",
       "      <td>16.657500</td>\n",
       "      <td>34.390000</td>\n",
       "      <td>32.962500</td>\n",
       "      <td>15.395000</td>\n",
       "    </tr>\n",
       "    <tr>\n",
       "      <th>50%</th>\n",
       "      <td>27.745000</td>\n",
       "      <td>71.500000</td>\n",
       "      <td>109.885000</td>\n",
       "      <td>25.795000</td>\n",
       "    </tr>\n",
       "    <tr>\n",
       "      <th>75%</th>\n",
       "      <td>53.477500</td>\n",
       "      <td>177.460000</td>\n",
       "      <td>335.950000</td>\n",
       "      <td>41.242500</td>\n",
       "    </tr>\n",
       "    <tr>\n",
       "      <th>max</th>\n",
       "      <td>1569.600000</td>\n",
       "      <td>1479.890000</td>\n",
       "      <td>3180.760000</td>\n",
       "      <td>1436.020000</td>\n",
       "    </tr>\n",
       "  </tbody>\n",
       "</table>\n",
       "</div>"
      ],
      "text/plain": [
       "            type 1       type 2       type 3       type 4\n",
       "count   486.000000   829.000000   400.000000   282.000000\n",
       "mean    113.176605   155.166490   256.231125    86.349468\n",
       "std     218.942121   215.615642   387.696657   191.863120\n",
       "min       2.750000     3.140000     0.460000     5.130000\n",
       "25%      16.657500    34.390000    32.962500    15.395000\n",
       "50%      27.745000    71.500000   109.885000    25.795000\n",
       "75%      53.477500   177.460000   335.950000    41.242500\n",
       "max    1569.600000  1479.890000  3180.760000  1436.020000"
      ]
     },
     "execution_count": 21,
     "metadata": {},
     "output_type": "execute_result"
    }
   ],
   "source": [
    "trans = trans[trans.value<10000]\n",
    "t1 = trans[trans.store=='type1']\n",
    "t2 = trans[trans.store=='type2']\n",
    "t3 = trans[trans.store=='type3']\n",
    "t4 = trans[trans.store=='type4']\n",
    "pd.DataFrame({'type 1':t1.value.describe(),'type 2':t2.value.describe(),\n",
    "              'type 3':t3.value.describe(),'type 4':t4.value.describe()})"
   ]
  },
  {
   "cell_type": "markdown",
   "metadata": {},
   "source": [
    "The 4 types have similarities and differences.\n",
    "\n",
    "Regarding the mean: they all look very different from each other.\n",
    "\n",
    "Regarding the standard deviation: type 1 and type 2 look similar."
   ]
  },
  {
   "cell_type": "code",
   "execution_count": 22,
   "metadata": {
    "collapsed": false
   },
   "outputs": [
    {
     "data": {
      "image/png": "[encoded data removed]",
      "text/plain": [
       "<matplotlib.figure.Figure at 0x2256cd5a400>"
      ]
     },
     "metadata": {},
     "output_type": "display_data"
    }
   ],
   "source": [
    "plt.figure(figsize=(15, 8))\n",
    "plt.subplot(221, title='Store type 1')\n",
    "plt.hist(log10(t1.value), bins=100, color='blue')\n",
    "plt.subplot(222, title='Store type 2')\n",
    "plt.hist(log10(t2.value), bins=100, color='green')\n",
    "plt.subplot(223, title='Store type 3')\n",
    "plt.hist(log10(t3.value), bins=100, color='red')\n",
    "plt.subplot(224, title='Store type 4')\n",
    "plt.hist(log10(t4.value), bins=100, color='pink')\n",
    "plt.show()"
   ]
  },
  {
   "cell_type": "markdown",
   "metadata": {},
   "source": [
    "When looking at these histograms it appears that store type 1 and store type 3 have similar distributions.\n",
    "The 2 other store types have different distributions.\n",
    "\n",
    "Let's perform statistical tests on the means and standard deviations to see what we can say about means and variances."
   ]
  },
  {
   "cell_type": "code",
   "execution_count": 23,
   "metadata": {
    "collapsed": false
   },
   "outputs": [
    {
     "data": {
      "text/html": [
       "<div>\n",
       "<table border=\"1\" class=\"dataframe\">\n",
       "  <thead>\n",
       "    <tr style=\"text-align: right;\">\n",
       "      <th></th>\n",
       "      <th>type 1</th>\n",
       "      <th>type 2</th>\n",
       "      <th>type 3</th>\n",
       "      <th>type 4</th>\n",
       "    </tr>\n",
       "  </thead>\n",
       "  <tbody>\n",
       "    <tr>\n",
       "      <th>type 1</th>\n",
       "      <td>x</td>\n",
       "      <td>0.705</td>\n",
       "      <td>0</td>\n",
       "      <td>0.014</td>\n",
       "    </tr>\n",
       "    <tr>\n",
       "      <th>type 2</th>\n",
       "      <td>x</td>\n",
       "      <td>x</td>\n",
       "      <td>0</td>\n",
       "      <td>0.019</td>\n",
       "    </tr>\n",
       "    <tr>\n",
       "      <th>type 3</th>\n",
       "      <td>x</td>\n",
       "      <td>x</td>\n",
       "      <td>x</td>\n",
       "      <td>0</td>\n",
       "    </tr>\n",
       "    <tr>\n",
       "      <th>type 4</th>\n",
       "      <td>x</td>\n",
       "      <td>x</td>\n",
       "      <td>x</td>\n",
       "      <td>x</td>\n",
       "    </tr>\n",
       "  </tbody>\n",
       "</table>\n",
       "</div>"
      ],
      "text/plain": [
       "       type 1 type 2 type 3 type 4\n",
       "type 1      x  0.705      0  0.014\n",
       "type 2      x      x      0  0.019\n",
       "type 3      x      x      x      0\n",
       "type 4      x      x      x      x"
      ]
     },
     "execution_count": 23,
     "metadata": {},
     "output_type": "execute_result"
    }
   ],
   "source": [
    "# Bartlett’s test for equal variances : null Hypothesis=same variance\n",
    "t12, p12 = stats.bartlett(t1.value, t2.value)\n",
    "t13, p13 = stats.bartlett(t1.value, t3.value)\n",
    "t14, p14 = stats.bartlett(t1.value, t4.value)\n",
    "t23, p23 = stats.bartlett(t2.value, t3.value)\n",
    "t24, p24 = stats.bartlett(t2.value, t4.value)\n",
    "t34, p34 = stats.bartlett(t3.value, t4.value)\n",
    "[p12, p13, p14, p23, p24, p34] = [round(x, 3) for x in [p12, p13, p14, p23, p24, p34]]\n",
    "pd.DataFrame([['x', p12, p13, p14], ['x', 'x', p23, p24], ['x', 'x', 'x', p34], ['x', 'x', 'x', 'x']],\n",
    "             columns=['type 1','type 2','type 3','type 4'], index=['type 1','type 2','type 3','type 4'])"
   ]
  },
  {
   "cell_type": "markdown",
   "metadata": {},
   "source": [
    "With a p-value of 70% we can assume that store type 1 and store type 2 have the same variance.\n",
    "\n",
    "The 2 other types have different variances."
   ]
  },
  {
   "cell_type": "code",
   "execution_count": 24,
   "metadata": {
    "collapsed": false
   },
   "outputs": [
    {
     "data": {
      "text/html": [
       "<div>\n",
       "<table border=\"1\" class=\"dataframe\">\n",
       "  <thead>\n",
       "    <tr style=\"text-align: right;\">\n",
       "      <th></th>\n",
       "      <th>type 1</th>\n",
       "      <th>type 2</th>\n",
       "      <th>type 3</th>\n",
       "      <th>type 4</th>\n",
       "    </tr>\n",
       "  </thead>\n",
       "  <tbody>\n",
       "    <tr>\n",
       "      <th>type 1</th>\n",
       "      <td>x</td>\n",
       "      <td>0.001</td>\n",
       "      <td>0</td>\n",
       "      <td>0.077</td>\n",
       "    </tr>\n",
       "    <tr>\n",
       "      <th>type 2</th>\n",
       "      <td>x</td>\n",
       "      <td>x</td>\n",
       "      <td>0</td>\n",
       "      <td>0</td>\n",
       "    </tr>\n",
       "    <tr>\n",
       "      <th>type 3</th>\n",
       "      <td>x</td>\n",
       "      <td>x</td>\n",
       "      <td>x</td>\n",
       "      <td>0</td>\n",
       "    </tr>\n",
       "    <tr>\n",
       "      <th>type 4</th>\n",
       "      <td>x</td>\n",
       "      <td>x</td>\n",
       "      <td>x</td>\n",
       "      <td>x</td>\n",
       "    </tr>\n",
       "  </tbody>\n",
       "</table>\n",
       "</div>"
      ],
      "text/plain": [
       "       type 1 type 2 type 3 type 4\n",
       "type 1      x  0.001      0  0.077\n",
       "type 2      x      x      0      0\n",
       "type 3      x      x      x      0\n",
       "type 4      x      x      x      x"
      ]
     },
     "execution_count": 24,
     "metadata": {},
     "output_type": "execute_result"
    }
   ],
   "source": [
    "# T-test for equal means : null Hypothesis=same mean\n",
    "t12, p12 = stats.ttest_ind(t1.value, t2.value, equal_var=True)\n",
    "t13, p13 = stats.ttest_ind(t1.value, t3.value, equal_var=False)\n",
    "t14, p14 = stats.ttest_ind(t1.value, t4.value, equal_var=False)\n",
    "t23, p23 = stats.ttest_ind(t2.value, t3.value, equal_var=False)\n",
    "t24, p24 = stats.ttest_ind(t2.value, t4.value, equal_var=False)\n",
    "t34, p34 = stats.ttest_ind(t3.value, t4.value, equal_var=False)\n",
    "[p12, p13, p14, p23, p24, p34] = [round(x, 3) for x in [p12, p13, p14, p23, p24, p34]]\n",
    "pd.DataFrame([['x', p12, p13, p14], ['x', 'x', p23, p24], ['x', 'x', 'x', p34], ['x', 'x', 'x', 'x']],\n",
    "             columns=['type 1','type 2','type 3','type 4'], index=['type 1','type 2','type 3','type 4'])"
   ]
  },
  {
   "cell_type": "markdown",
   "metadata": {},
   "source": [
    "Store type 1 and store type 3 have very probably the same mean! It goes on the same way than the observation of the histograms.\n",
    "\n",
    "The 2 other types have different means."
   ]
  },
  {
   "cell_type": "markdown",
   "metadata": {},
   "source": [
    "### Conclusion\n",
    "\n",
    "This study allowed us first to compare transaction values between males and females. As we saw they are likely to have the same caracteristics! Don't forget to take a look at the data and to drop outliers.\n",
    "\n",
    "Then we compared different store types. It appears that store type 1 and store type 2 have the same variance but not the same mean.\n",
    "\n",
    "Store type 1 and store type 3 have the same mean but not the same variance. Maybe the store have the same product but are not located in the same type of places which could explain the difference of variances! If you have another interpretation on these results, feel free to comment :)"
   ]
  }
 ],
 "metadata": {
  "anaconda-cloud": {},
  "kernelspec": {
   "display_name": "Python [conda root]",
   "language": "python",
   "name": "conda-root-py"
  },
  "language_info": {
   "codemirror_mode": {
    "name": "ipython",
    "version": 3
   },
   "file_extension": ".py",
   "mimetype": "text/x-python",
   "name": "python",
   "nbconvert_exporter": "python",
   "pygments_lexer": "ipython3",
   "version": "3.5.2"
  }
 },
 "nbformat": 4,
 "nbformat_minor": 0
}
